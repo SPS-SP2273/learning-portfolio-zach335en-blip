{
 "cells": [
  {
   "attachments": {},
   "cell_type": "markdown",
   "id": "123456",
   "metadata": {},
   "source": [
    "<div style=\"text-align:left;font-size:2em\"><span style=\"font-weight:bolder;font-size:1.25em\">SP2273 | Learning Portfolio</span><br><br><span style=\"font-weight:bold;color:darkred\">Storing Data (Need) Exercises</span></div>"
   ]
  },
  {
   "cell_type": "code",
   "execution_count": 8,
   "id": "d31f4d0e",
   "metadata": {},
   "outputs": [],
   "source": [
    "import numpy as np"
   ]
  },
  {
   "cell_type": "markdown",
   "id": "e890e7f2",
   "metadata": {},
   "source": [
    "# Exercise 1 (Total recall?)"
   ]
  },
  {
   "cell_type": "markdown",
   "id": "d4a453cf",
   "metadata": {},
   "source": [
    "1. Similarities\n",
    "    1. Lists and arrays both store data\n",
    "    1. Lists and arrays both allow data to be retrieved from them\n",
    "1. Differences\n",
    "    1. Lists are primarily one-dimensional and only store either strings or floats.\n",
    "    1. Multiplying lists give two lists, while multiplying arrays multiplies the numbers within the array\n",
    "1. A dictionary stores an amount of data accessible by a key."
   ]
  },
  {
   "cell_type": "markdown",
   "id": "6ab68ca6",
   "metadata": {},
   "source": [
    "# Exercise 2 (Indexing)"
   ]
  },
  {
   "cell_type": "code",
   "execution_count": 9,
   "id": "84448396",
   "metadata": {},
   "outputs": [
    {
     "name": "stdout",
     "output_type": "stream",
     "text": [
      "c3\n",
      "e5\n",
      "e5\n",
      "g7\n",
      "i9\n"
     ]
    }
   ],
   "source": [
    "py_list = [\"a1\", \"b2\", \"c3\", \"d4\", \"e5\", \"f6\", \"g7\", \"h8\", \"i9\", \"j10\"]\n",
    "print(py_list[2])   # Prints 'a1'\n",
    "print(py_list[4])   # Prints 'c3'\n",
    "print(py_list[4])   # Prints 'e5'\n",
    "print(py_list[6])   # Prints 'g7'\n",
    "print(py_list[8])   # Prints 'i9'"
   ]
  },
  {
   "cell_type": "markdown",
   "id": "b8dfd4dd",
   "metadata": {},
   "source": [
    "# Exercise 3 (Index again)"
   ]
  },
  {
   "cell_type": "code",
   "execution_count": 10,
   "id": "f7c70d7f",
   "metadata": {},
   "outputs": [],
   "source": [
    "elements = ['Hydrogen',\n",
    "            'Helium', 'Lithium',\n",
    "            'Beryllium', 'Boron', 'Carbon',\n",
    "            'Nitrogen', 'Oxygen',\n",
    "            'Fluorine',\n",
    "            'Neon']"
   ]
  },
  {
   "cell_type": "code",
   "execution_count": 11,
   "id": "2bbd0b3e",
   "metadata": {},
   "outputs": [
    {
     "name": "stdout",
     "output_type": "stream",
     "text": [
      "Beryllium\n"
     ]
    }
   ],
   "source": [
    "print(elements[3])"
   ]
  },
  {
   "cell_type": "code",
   "execution_count": 12,
   "id": "cb45a56a",
   "metadata": {},
   "outputs": [
    {
     "name": "stdout",
     "output_type": "stream",
     "text": [
      "Nitrogen\n"
     ]
    }
   ],
   "source": [
    "print(elements[-4])"
   ]
  },
  {
   "cell_type": "markdown",
   "id": "9e41424e",
   "metadata": {},
   "source": [
    "# Exercise 4 (How many ones)"
   ]
  },
  {
   "cell_type": "code",
   "execution_count": 13,
   "id": "5efbd21e",
   "metadata": {},
   "outputs": [],
   "source": [
    "numbers=[45, 60, 1, 30, 96, 1, 96, 57, 16, 1,\n",
    "        99, 62, 86, 43, 42, 60, 59, 1, 1, 35,\n",
    "        83, 47, 34, 28, 68, 23, 22, 92, 1, 79,\n",
    "        1, 29, 94, 72, 46, 47, 1, 74, 32, 20,\n",
    "        8, 37, 35, 1, 89, 29, 86, 19, 43, 61]                  "
   ]
  },
  {
   "cell_type": "code",
   "execution_count": 14,
   "id": "49afc6d3",
   "metadata": {},
   "outputs": [
    {
     "name": "stdout",
     "output_type": "stream",
     "text": [
      "9\n"
     ]
    }
   ],
   "source": [
    "print(sum(np.array(numbers) <2))"
   ]
  },
  {
   "cell_type": "markdown",
   "id": "5cdad385",
   "metadata": {},
   "source": [
    "# Exercise 5 (A Matter of Statistics)"
   ]
  },
  {
   "cell_type": "code",
   "execution_count": 15,
   "id": "c61613ac",
   "metadata": {},
   "outputs": [],
   "source": [
    "x_1 = [1, 4, 9, 16, 25, 36, 49, 64, 81, 100]\n",
    "x_2 = [1, 8, 27, 64, 125, 216, 343, 512, 729, 1000]"
   ]
  },
  {
   "cell_type": "code",
   "execution_count": 16,
   "id": "14940a3a",
   "metadata": {},
   "outputs": [
    {
     "name": "stdout",
     "output_type": "stream",
     "text": [
      "38.5\n",
      "302.5\n"
     ]
    }
   ],
   "source": [
    "np_array = np.array(x_1)\n",
    "np_array2 = np.array (x_2)\n",
    "print(np_array.mean())\n",
    "print(np_array2.mean())"
   ]
  },
  {
   "cell_type": "code",
   "execution_count": 17,
   "id": "098e8acd",
   "metadata": {},
   "outputs": [
    {
     "name": "stdout",
     "output_type": "stream",
     "text": [
      "32.41990129534635\n",
      "326.0893282522444\n"
     ]
    }
   ],
   "source": [
    "print(np_array.std())\n",
    "print(np_array2.std())"
   ]
  },
  {
   "cell_type": "code",
   "execution_count": 31,
   "id": "20bce893",
   "metadata": {},
   "outputs": [
    {
     "name": "stdout",
     "output_type": "stream",
     "text": [
      "0.9871796626270701\n"
     ]
    }
   ],
   "source": [
    "print((sum((np_array - np_array.mean()) * (np_array2 - np_array2.mean())))/(np.sqrt(sum((np_array - np_array.mean())**2)*(sum((np_array2 - np_array2.mean())**2)))))\n",
    "# without np.corrcoef"
   ]
  },
  {
   "cell_type": "code",
   "execution_count": 25,
   "id": "53cbcd0c",
   "metadata": {},
   "outputs": [
    {
     "name": "stdout",
     "output_type": "stream",
     "text": [
      "[[1.         0.98717966]\n",
      " [0.98717966 1.        ]]\n"
     ]
    }
   ],
   "source": [
    "print(np.corrcoef(np_array, np_array2))"
   ]
  },
  {
   "cell_type": "markdown",
   "id": "3ba0b13f",
   "metadata": {},
   "source": [
    "Both give the same value for the correlation coefficient. However not using np.corrcoef is more tedious.\n",
    "Using np.corrcoef gives two results dependent on which set of data used is the x axis."
   ]
  }
 ],
 "metadata": {
  "kernelspec": {
   "display_name": "base",
   "language": "python",
   "name": "python3"
  },
  "language_info": {
   "codemirror_mode": {
    "name": "ipython",
    "version": 3
   },
   "file_extension": ".py",
   "mimetype": "text/x-python",
   "name": "python",
   "nbconvert_exporter": "python",
   "pygments_lexer": "ipython3",
   "version": "3.13.5"
  },
  "toc": {
   "base_numbering": 1,
   "nav_menu": {},
   "number_sections": true,
   "sideBar": true,
   "skip_h1_title": false,
   "title_cell": "Table of Contents",
   "title_sidebar": "Contents",
   "toc_cell": false,
   "toc_position": {},
   "toc_section_display": true,
   "toc_window_display": false
  }
 },
 "nbformat": 4,
 "nbformat_minor": 5
}
