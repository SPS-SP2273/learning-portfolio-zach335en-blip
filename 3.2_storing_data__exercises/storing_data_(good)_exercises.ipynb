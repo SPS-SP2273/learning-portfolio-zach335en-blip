{
 "cells": [
  {
   "attachments": {},
   "cell_type": "markdown",
   "id": "123456",
   "metadata": {},
   "source": [
    "<div style=\"text-align:left;font-size:2em\"><span style=\"font-weight:bolder;font-size:1.25em\">SP2273 | Learning Portfolio</span><br><br><span style=\"font-weight:bold;color:darkred\">Storing Data (Good) Exercises</span></div>"
   ]
  },
  {
   "cell_type": "code",
   "execution_count": 2,
   "id": "0dcd4fa7",
   "metadata": {},
   "outputs": [],
   "source": [
    "import numpy as np"
   ]
  },
  {
   "cell_type": "markdown",
   "id": "e4a989fe",
   "metadata": {},
   "source": [
    "# Exercise 1 (Total recall) "
   ]
  },
  {
   "cell_type": "markdown",
   "id": "6ea5c924",
   "metadata": {},
   "source": [
    "| **Term** | Brief description |\n",
    "| :--- | :--- |\n",
    "| Subsetting | To select a set of data from a larger set |\n",
    "| Indexing | To select only one piece of data from a set |\n",
    "| Slicing | To select a range of data from within a set |\n",
    "| Masking | To 'hide' the result of indexing or slicing |"
   ]
  },
  {
   "cell_type": "markdown",
   "id": "0454f83b",
   "metadata": {},
   "source": [
    "# Exercise 2 (Show me the ‘odd’ letters)"
   ]
  },
  {
   "cell_type": "code",
   "execution_count": 3,
   "id": "69b41367",
   "metadata": {},
   "outputs": [],
   "source": [
    "np_array_2d = np.array([[1, \"A\"], [3, \"C\"], [2, \"B\"], [4, \"D\"],\n",
    "                        [5, \"E\"], [7, \"G\"], [6, \"F\"], [8, \"H\"],\n",
    "                        [10, \"J\"], [9, \"I\"]])"
   ]
  },
  {
   "cell_type": "code",
   "execution_count": 21,
   "id": "8dc7de84",
   "metadata": {},
   "outputs": [
    {
     "name": "stdout",
     "output_type": "stream",
     "text": [
      "['A' 'C' 'E' 'G' 'I']\n"
     ]
    }
   ],
   "source": [
    "a = np_array_2d [:,0]\n",
    "b = a.astype(int)\n",
    "my_mask = b%2 > 0\n",
    "print(np_array_2d [my_mask, 1])"
   ]
  },
  {
   "cell_type": "markdown",
   "id": "8137a882",
   "metadata": {},
   "source": [
    "# Exercise 3  "
   ]
  },
  {
   "cell_type": "code",
   "execution_count": 49,
   "id": "140560f1",
   "metadata": {},
   "outputs": [
    {
     "name": "stdout",
     "output_type": "stream",
     "text": [
      "[[ 1  0  1 -1 -1]\n",
      " [ 1 -1  1 -1 -1]\n",
      " [ 1 -1 -1  1 -1]\n",
      " [-1  1  1 -1 -1]\n",
      " [ 1 -1  1 -1  1]]\n"
     ]
    }
   ],
   "source": [
    "np_array = np.array([[66, 50, 57, -1, -1],\n",
    " [92, -1, 88, -1, -1],\n",
    " [75, -1, -1, 76, -1],\n",
    " [-1, 51, 87, -1, -1],\n",
    " [71, -1, 67, -1, 69]])\n",
    "my_mask = np_array - 50 < 0\n",
    "a = my_mask.astype(int)\n",
    "my_mask2 = np_array - 50 > 0\n",
    "b = my_mask2.astype(int)\n",
    "print(-1 * a + b)"
   ]
  }
 ],
 "metadata": {
  "kernelspec": {
   "display_name": "base",
   "language": "python",
   "name": "python3"
  },
  "language_info": {
   "codemirror_mode": {
    "name": "ipython",
    "version": 3
   },
   "file_extension": ".py",
   "mimetype": "text/x-python",
   "name": "python",
   "nbconvert_exporter": "python",
   "pygments_lexer": "ipython3",
   "version": "3.13.5"
  },
  "toc": {
   "base_numbering": 1,
   "nav_menu": {},
   "number_sections": true,
   "sideBar": true,
   "skip_h1_title": false,
   "title_cell": "Table of Contents",
   "title_sidebar": "Contents",
   "toc_cell": false,
   "toc_position": {},
   "toc_section_display": true,
   "toc_window_display": false
  }
 },
 "nbformat": 4,
 "nbformat_minor": 5
}
