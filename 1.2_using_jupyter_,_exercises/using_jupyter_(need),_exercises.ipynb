{
 "cells": [
  {
   "attachments": {},
   "cell_type": "markdown",
   "id": "123456",
   "metadata": {},
   "source": [
    "<div style=\"text-align:left;font-size:2em\"><span style=\"font-weight:bolder;font-size:1.25em\">SP2273 | Learning Portfolio</span><br><br><span style=\"font-weight:bold;color:darkred\">Using Jupyter (Need), Exercises</span></div>"
   ]
  },
  {
   "attachments": {},
   "cell_type": "markdown",
   "id": "123456",
   "metadata": {},
   "source": [
    "## 1 Quadratic Equations"
   ]
  },
  {
   "attachments": {},
   "cell_type": "markdown",
   "id": "123456",
   "metadata": {},
   "source": [
    "### Introduction"
   ]
  },
  {
   "cell_type": "markdown",
   "id": "46ff1e36",
   "metadata": {},
   "source": [
    "![](https://upload.wikimedia.org/wikipedia/commons/thumb/f/f8/Polynomialdeg2.svg/300px-Polynomialdeg2.svg.png)\n",
    "\n",
    "_(Image from the Wikipedia page on Quadratic equations)_"
   ]
  },
  {
   "cell_type": "markdown",
   "id": "123456",
   "metadata": {},
   "source": [
    "The general form of a quadratic equation is:\n",
    "$$ ax^2 + bx + c = 0 $$\n"
   ]
  },
  {
   "attachments": {},
   "cell_type": "markdown",
   "id": "123456",
   "metadata": {},
   "source": [
    "### Solutions"
   ]
  },
  {
   "cell_type": "markdown",
   "id": "dbf6f452",
   "metadata": {},
   "source": [
    "Provided $ a \\ne 0 $\n",
    ", we can use an elementary algebraic method called completing the square to show that a quadratic equation has the following solution:\n",
    "$$ x = \\dfrac{-b \\pm \\sqrt{b^2-4ac}}{2a} $$"
   ]
  },
  {
   "attachments": {},
   "cell_type": "markdown",
   "id": "123456",
   "metadata": {},
   "source": [
    "### Discriminant"
   ]
  },
  {
   "cell_type": "markdown",
   "id": "4883a56b",
   "metadata": {},
   "source": [
    "The quantity $ \\Delta = b^2 - 4ac $\n",
    " is called the discriminant of the equation and decides the nature of its solutions. The table below shows the various possibilities."
   ]
  },
  {
   "cell_type": "markdown",
   "id": "93cf9445",
   "metadata": {},
   "source": [
    "| **Discriminant** | **Roots** |\n",
    " :--:|:--- |\n",
    "| $ \\Delta = b^2 - 4ac = 0 $ | A single solution of $ -b/(2a) $ |\n",
    "| $ \\Delta = b^2 - 4ac > 0 $ | Two distinct solutions |\n",
    "| $ \\Delta = b^2 - 4ac < 0 $ | No real solutions; both are complex. |"
   ]
  },
  {
   "cell_type": "markdown",
   "id": "8c108f08",
   "metadata": {},
   "source": [
    "## 2 Exercise 2 (In Your Own Words)"
   ]
  },
  {
   "cell_type": "markdown",
   "id": "ace0e558",
   "metadata": {},
   "source": [
    "1. A Git repository is a file within the computer and github that stores the unsaved changes made to the code.\n",
    "2. Unsaved\n",
    "3. Commit refers to keeping the changes made in the current version of code.\n",
    "4. A push pushes the changed code from your current repository in the computer up to the cloud\n",
    "5. A pull brings the files from the origin into the local drive for editing.\n",
    "6. GitHub is the main central web-based repository, while GitHub Desktop is the local cache stored in the device."
   ]
  },
  {
   "cell_type": "markdown",
   "id": "a0b8f277",
   "metadata": {},
   "source": [
    "# Excercise 3 (A Matter of Statistics)"
   ]
  },
  {
   "cell_type": "markdown",
   "id": "e0845c51",
   "metadata": {},
   "source": [
    "$$ \\mu = \\dfrac{1}{n} \\sum_{i=1}^{n} x_{i} $$"
   ]
  },
  {
   "cell_type": "markdown",
   "id": "717d7bb0",
   "metadata": {},
   "source": [
    "$$ \\sigma = \\sqrt{\\dfrac{1}{n} \\sum_{i=1}^{n} (x_{i}- \\mu)^2} $$"
   ]
  },
  {
   "cell_type": "markdown",
   "id": "c8cc4149",
   "metadata": {},
   "source": [
    "$$ r = \\dfrac{\\sum_{i=1}^{n} (x_{i} - \\mu \\chi) (y_{i} - \\mu \\gamma)}{\\sqrt{\\sum_{i=1}^{n} (x_{i} - \\mu_{\\chi})^2 \\sum_{i=1}^{n} (y_{i} - \\mu \\gamma)^2}} $$"
   ]
  }
 ],
 "metadata": {
  "kernelspec": {
   "display_name": "Python 3",
   "language": "python",
   "name": "python3"
  },
  "language_info": {
   "codemirror_mode": {
    "name": "ipython",
    "version": 3
   },
   "file_extension": ".py",
   "mimetype": "text/x-python",
   "name": "python",
   "nbconvert_exporter": "python",
   "pygments_lexer": "ipython3",
   "version": "3.10.6 (main, Nov 14 2022, 16:10:14) [GCC 11.3.0]"
  },
  "toc": {
   "base_numbering": 1,
   "nav_menu": {},
   "number_sections": true,
   "sideBar": true,
   "skip_h1_title": false,
   "title_cell": "Table of Contents",
   "title_sidebar": "Contents",
   "toc_cell": false,
   "toc_position": {},
   "toc_section_display": true,
   "toc_window_display": false
  },
  "vscode": {
   "interpreter": {
    "hash": "31f2aee4e71d21fbe5cf8b01ff0e069b9275f58929596ceb00d14d90e3e16cd6"
   }
  }
 },
 "nbformat": 4,
 "nbformat_minor": 5
}
