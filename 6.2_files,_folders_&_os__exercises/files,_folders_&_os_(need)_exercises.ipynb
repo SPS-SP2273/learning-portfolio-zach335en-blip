{
 "cells": [
  {
   "attachments": {},
   "cell_type": "markdown",
   "id": "123456",
   "metadata": {},
   "source": [
    "<div style=\"text-align:left;font-size:2em\"><span style=\"font-weight:bolder;font-size:1.25em\">SP2273 | Learning Portfolio</span><br><br><span style=\"font-weight:bold;color:darkred\">Files, Folders & OS (Need) Exercises</span></div>"
   ]
  },
  {
   "cell_type": "markdown",
   "id": "07077450",
   "metadata": {},
   "source": [
    "# Exercise 1 (Tidying a collaboration)"
   ]
  },
  {
   "cell_type": "markdown",
   "id": "9036c4fb",
   "metadata": {},
   "source": [
    "# Task 1"
   ]
  },
  {
   "cell_type": "code",
   "execution_count": 174,
   "id": "11b2f44d",
   "metadata": {},
   "outputs": [
    {
     "name": "stdout",
     "output_type": "stream",
     "text": [
      "10-o8_singapore.txt\n"
     ]
    }
   ],
   "source": [
    "month_convert = {\n",
    "'jan': '01', 'feb': '02', 'mar': '03',\n",
    "'apr': '04', 'may': '05', 'jun': '06',\n",
    "'jul': '07', 'aug': '08', 'sep': '09',\n",
    "'oct': '10', 'nov': '11', 'dec': '12'\n",
    "}\n",
    "\n",
    "old_file_name = f\"oct-o8_singapore.txt\"\n",
    "month, day_city = old_file_name.split('-')\n",
    "new_file_name = f'{month_convert[month]}-{day_city}'\n",
    "print(new_file_name)"
   ]
  },
  {
   "cell_type": "markdown",
   "id": "f9e71686",
   "metadata": {},
   "source": [
    "## Task 2"
   ]
  },
  {
   "cell_type": "code",
   "execution_count": 175,
   "id": "dd32de7a",
   "metadata": {},
   "outputs": [
    {
     "data": {
      "text/plain": [
       "'05-15_dhaka.txt'"
      ]
     },
     "execution_count": 175,
     "metadata": {},
     "output_type": "execute_result"
    }
   ],
   "source": [
    "def rename_my_file(old_file_name):\n",
    "    month, day_city = old_file_name.split('-')\n",
    "    new_file_name = f'{month_convert[month]}-{day_city}'\n",
    "    return new_file_name\n",
    "\n",
    "rename_my_file('may-15_dhaka.txt')"
   ]
  },
  {
   "cell_type": "markdown",
   "id": "1503c940",
   "metadata": {},
   "source": [
    "## Task 3"
   ]
  },
  {
   "cell_type": "code",
   "execution_count": 176,
   "id": "cff3918b",
   "metadata": {},
   "outputs": [
    {
     "name": "stdout",
     "output_type": "stream",
     "text": [
      "oct-08_singapore.txt---->10-08_singapore.txt\n",
      "jul-10_cairo.txt---->07-10_cairo.txt\n",
      "may-15_dhaka.txt---->05-15_dhaka.txt\n",
      "may-13_cairo.txt---->05-13_cairo.txt\n",
      "oct-21_cairo.txt---->10-21_cairo.txt\n",
      "jan-10_singapore.txt---->01-10_singapore.txt\n",
      "jun-20_tokyo.txt---->06-20_tokyo.txt\n",
      "aug-06_jakarta.txt---->08-06_jakarta.txt\n",
      "dec-21_karachi.txt---->12-21_karachi.txt\n",
      "jan-01_tokyo.txt---->01-01_tokyo.txt\n"
     ]
    }
   ],
   "source": [
    "data_list = ['oct-08_singapore.txt', 'jul-10_cairo.txt', 'may-15_dhaka.txt',\n",
    " 'may-13_cairo.txt', 'oct-21_cairo.txt', 'jan-10_singapore.txt',\n",
    " 'jun-20_tokyo.txt', 'aug-06_jakarta.txt', 'dec-21_karachi.txt',\n",
    " 'jan-01_tokyo.txt']\n",
    "for old_file_name in data_list:\n",
    "    new_file_name = rename_my_file(old_file_name)\n",
    "    print(f'{old_file_name}---->{new_file_name}')"
   ]
  },
  {
   "cell_type": "markdown",
   "id": "b6e42222",
   "metadata": {},
   "source": [
    "## Task 4"
   ]
  },
  {
   "cell_type": "code",
   "execution_count": 177,
   "id": "ebe569b3",
   "metadata": {},
   "outputs": [],
   "source": [
    "import os\n",
    "import glob\n",
    "import shutil"
   ]
  },
  {
   "cell_type": "code",
   "execution_count": 215,
   "id": "fdaaf190",
   "metadata": {},
   "outputs": [],
   "source": [
    "for filename in (glob.glob('*/*.txt', recursive = True)):\n",
    "    folder, old_file_name = filename.split('\\\\')\n",
    "# I assume this is correct because i don't want to go through all the \n",
    "# files to check if all the correct dates are there\n",
    "    for files in glob.glob('*/os-collaboration-exercise-data', recursive = True):\n",
    "        try:\n",
    "            os.rename(old_file_name, new_file_name)\n",
    "        except FileNotFoundError:\n",
    "            continue"
   ]
  },
  {
   "cell_type": "code",
   "execution_count": 210,
   "id": "23cc350c",
   "metadata": {},
   "outputs": [
    {
     "data": {
      "text/plain": [
       "['cities',\n",
       " 'files,_folders_&_os_(need)_exercises.ipynb',\n",
       " 'os-collaboration-exercise-data']"
      ]
     },
     "execution_count": 210,
     "metadata": {},
     "output_type": "execute_result"
    }
   ],
   "source": [
    "glob.glob('*')"
   ]
  },
  {
   "cell_type": "markdown",
   "id": "cf16572a",
   "metadata": {},
   "source": [
    "## Task 5"
   ]
  },
  {
   "cell_type": "code",
   "execution_count": 203,
   "id": "aab1403b",
   "metadata": {},
   "outputs": [
    {
     "name": "stdout",
     "output_type": "stream",
     "text": [
      "\n"
     ]
    }
   ],
   "source": [
    "city_list = ['Cairo', 'Dhaka', 'Jakarta', 'Karachi', 'Manila',\n",
    " 'Melbourne', 'Osaka', 'Shanghai', 'Singapore', 'Tokyo']\n",
    "\n",
    "try:\n",
    "    os.mkdir('cities')\n",
    "except FileExistsError:\n",
    "    print()\n",
    "\n",
    "for city in city_list:\n",
    "    path = os.path.join('cities', city)\n",
    "    try:\n",
    "        os.mkdir(path)\n",
    "    except FileExistsError:\n",
    "        continue"
   ]
  },
  {
   "cell_type": "markdown",
   "id": "7f8b6907",
   "metadata": {},
   "source": [
    "## Task 6"
   ]
  },
  {
   "cell_type": "code",
   "execution_count": 188,
   "id": "f18911af",
   "metadata": {},
   "outputs": [
    {
     "ename": "PermissionError",
     "evalue": "[Errno 13] Permission denied: 'os-collaboration-exercise-data'",
     "output_type": "error",
     "traceback": [
      "\u001b[31m---------------------------------------------------------------------------\u001b[39m",
      "\u001b[31mPermissionError\u001b[39m                           Traceback (most recent call last)",
      "\u001b[36mCell\u001b[39m\u001b[36m \u001b[39m\u001b[32mIn[188]\u001b[39m\u001b[32m, line 6\u001b[39m\n\u001b[32m      4\u001b[39m old_path = os.path.join(\u001b[33m'\u001b[39m\u001b[33mos-collaboration-exercise-data\u001b[39m\u001b[33m'\u001b[39m)\n\u001b[32m      5\u001b[39m new_path = os.path.join(\u001b[33m'\u001b[39m\u001b[33mcities\u001b[39m\u001b[33m'\u001b[39m, \u001b[33m'\u001b[39m\u001b[33mCairo\u001b[39m\u001b[33m'\u001b[39m)\n\u001b[32m----> \u001b[39m\u001b[32m6\u001b[39m shutil.copy(old_path, new_path)\n",
      "\u001b[36mFile \u001b[39m\u001b[32mc:\\Users\\65914\\miniconda3\\Lib\\shutil.py:428\u001b[39m, in \u001b[36mcopy\u001b[39m\u001b[34m(src, dst, follow_symlinks)\u001b[39m\n\u001b[32m    426\u001b[39m \u001b[38;5;28;01mif\u001b[39;00m os.path.isdir(dst):\n\u001b[32m    427\u001b[39m     dst = os.path.join(dst, os.path.basename(src))\n\u001b[32m--> \u001b[39m\u001b[32m428\u001b[39m copyfile(src, dst, follow_symlinks=follow_symlinks)\n\u001b[32m    429\u001b[39m copymode(src, dst, follow_symlinks=follow_symlinks)\n\u001b[32m    430\u001b[39m \u001b[38;5;28;01mreturn\u001b[39;00m dst\n",
      "\u001b[36mFile \u001b[39m\u001b[32mc:\\Users\\65914\\miniconda3\\Lib\\shutil.py:260\u001b[39m, in \u001b[36mcopyfile\u001b[39m\u001b[34m(src, dst, follow_symlinks)\u001b[39m\n\u001b[32m    258\u001b[39m     os.symlink(os.readlink(src), dst)\n\u001b[32m    259\u001b[39m \u001b[38;5;28;01melse\u001b[39;00m:\n\u001b[32m--> \u001b[39m\u001b[32m260\u001b[39m     \u001b[38;5;28;01mwith\u001b[39;00m \u001b[38;5;28mopen\u001b[39m(src, \u001b[33m'\u001b[39m\u001b[33mrb\u001b[39m\u001b[33m'\u001b[39m) \u001b[38;5;28;01mas\u001b[39;00m fsrc:\n\u001b[32m    261\u001b[39m         \u001b[38;5;28;01mtry\u001b[39;00m:\n\u001b[32m    262\u001b[39m             \u001b[38;5;28;01mwith\u001b[39;00m \u001b[38;5;28mopen\u001b[39m(dst, \u001b[33m'\u001b[39m\u001b[33mwb\u001b[39m\u001b[33m'\u001b[39m) \u001b[38;5;28;01mas\u001b[39;00m fdst:\n\u001b[32m    263\u001b[39m                 \u001b[38;5;66;03m# macOS\u001b[39;00m\n",
      "\u001b[31mPermissionError\u001b[39m: [Errno 13] Permission denied: 'os-collaboration-exercise-data'"
     ]
    }
   ],
   "source": [
    "path = glob.glob('*/*cairo.txt', recursive=True)\n",
    "for file in path:\n",
    "    filename = file.split(os.path.sep)[-1]\n",
    "    old_path = os.path.join('os-collaboration-exercise-data')\n",
    "    new_path = os.path.join('cities', 'Cairo')\n",
    "    shutil.copy(old_path, new_path)\n"
   ]
  }
 ],
 "metadata": {
  "kernelspec": {
   "display_name": "base",
   "language": "python",
   "name": "python3"
  },
  "language_info": {
   "codemirror_mode": {
    "name": "ipython",
    "version": 3
   },
   "file_extension": ".py",
   "mimetype": "text/x-python",
   "name": "python",
   "nbconvert_exporter": "python",
   "pygments_lexer": "ipython3",
   "version": "3.13.5"
  },
  "toc": {
   "base_numbering": 1,
   "nav_menu": {},
   "number_sections": true,
   "sideBar": true,
   "skip_h1_title": false,
   "title_cell": "Table of Contents",
   "title_sidebar": "Contents",
   "toc_cell": false,
   "toc_position": {},
   "toc_section_display": true,
   "toc_window_display": false
  }
 },
 "nbformat": 4,
 "nbformat_minor": 5
}
