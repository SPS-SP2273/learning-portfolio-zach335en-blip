{
 "cells": [
  {
   "attachments": {},
   "cell_type": "markdown",
   "id": "123456",
   "metadata": {},
   "source": [
    "<div style=\"text-align:left;font-size:2em\"><span style=\"font-weight:bolder;font-size:1.25em\">SP2273 | Learning Portfolio</span><br><br><span style=\"font-weight:bold;color:darkred\">Using Jupyter (Good)</span></div>"
   ]
  },
  {
   "attachments": {},
   "cell_type": "markdown",
   "id": "123456",
   "metadata": {},
   "source": [
    "# What to expect in this chapter"
   ]
  },
  {
   "attachments": {},
   "cell_type": "markdown",
   "id": "123456",
   "metadata": {},
   "source": [
    "# 1 Some tips and tricks"
   ]
  },
  {
   "cell_type": "code",
   "execution_count": 5,
   "id": "9cffaf06",
   "metadata": {},
   "outputs": [
    {
     "data": {
      "text/plain": [
       "True"
      ]
     },
     "execution_count": 5,
     "metadata": {},
     "output_type": "execute_result"
    }
   ],
   "source": [
    "1==1"
   ]
  },
  {
   "cell_type": "code",
   "execution_count": 7,
   "id": "02561995",
   "metadata": {},
   "outputs": [
    {
     "data": {
      "text/plain": [
       "True"
      ]
     },
     "execution_count": 7,
     "metadata": {},
     "output_type": "execute_result"
    }
   ],
   "source": [
    "1==1"
   ]
  },
  {
   "cell_type": "markdown",
   "id": "d5888d11",
   "metadata": {},
   "source": []
  },
  {
   "attachments": {},
   "cell_type": "markdown",
   "id": "123456",
   "metadata": {},
   "source": [
    "## 1.1 Keyboard Shortcuts"
   ]
  },
  {
   "attachments": {},
   "cell_type": "markdown",
   "id": "123456",
   "metadata": {},
   "source": [
    "### Things to note"
   ]
  },
  {
   "cell_type": "code",
   "execution_count": 4,
   "id": "123456",
   "metadata": {},
   "outputs": [],
   "source": [
    "\n",
    "# Your code here\n"
   ]
  },
  {
   "attachments": {},
   "cell_type": "markdown",
   "id": "123456",
   "metadata": {},
   "source": [
    "## 1.2 Shell commands"
   ]
  },
  {
   "cell_type": "code",
   "execution_count": 1,
   "id": "ccee2dec",
   "metadata": {},
   "outputs": [
    {
     "name": "stdout",
     "output_type": "stream",
     "text": [
      "c:\\Users\\65914\\OneDrive - Anglo-Chinese School (Independent)\\Documents\\GitHub\\learning-portfolio-zach335en-blip\\1.1_using_jupyter\n"
     ]
    }
   ],
   "source": [
    "!cd"
   ]
  },
  {
   "cell_type": "code",
   "execution_count": 2,
   "id": "48e2f91e",
   "metadata": {},
   "outputs": [
    {
     "name": "stdout",
     "output_type": "stream",
     "text": [
      " Volume in drive C is Acer\n",
      " Volume Serial Number is 9CBF-F0EC\n",
      "\n",
      " Directory of c:\\Users\\65914\\OneDrive - Anglo-Chinese School (Independent)\\Documents\\GitHub\\learning-portfolio-zach335en-blip\\1.1_using_jupyter\n",
      "\n",
      "12/08/2025  08:41 am    <DIR>          .\n",
      "12/08/2025  08:41 am    <DIR>          ..\n",
      "12/08/2025  08:41 am             2,518 using_jupyter_(good).ipynb\n",
      "14/08/2025  08:56 am             6,012 using_jupyter_(need).ipynb\n",
      "               2 File(s)          8,530 bytes\n",
      "               2 Dir(s)  106,677,227,520 bytes free\n"
     ]
    }
   ],
   "source": [
    "!dir"
   ]
  },
  {
   "cell_type": "code",
   "execution_count": 8,
   "id": "9e23e0d9",
   "metadata": {},
   "outputs": [
    {
     "name": "stdout",
     "output_type": "stream",
     "text": [
      "# packages in environment at C:\\Users\\65914\\miniconda3:\n",
      "#\n",
      "# Name                        Version          Build               Channel\n",
      "anaconda-anon-usage           0.7.1            py313hfc23b7f_100\n",
      "anaconda_powershell_prompt    1.1.0            haa95532_1\n",
      "anaconda_prompt               1.1.0            haa95532_1\n",
      "annotated-types               0.6.0            py313haa95532_0\n",
      "anyio                         4.7.0            py313haa95532_0\n",
      "archspec                      0.2.3            pyhd3eb1b0_0\n",
      "argon2-cffi                   21.3.0           pyhd3eb1b0_0\n",
      "argon2-cffi-bindings          21.2.0           py313h827c3e9_1\n",
      "asttokens                     3.0.0            py313haa95532_0\n",
      "async-lru                     2.0.4            py313haa95532_0\n",
      "attrs                         24.3.0           py313haa95532_0\n",
      "babel                         2.16.0           py313haa95532_0\n",
      "beautifulsoup4                4.13.4           py313haa95532_0\n",
      "blas                          1.0              mkl\n",
      "bleach                        6.2.0            py313haa95532_0\n",
      "boltons                       25.0.0           py313haa95532_0\n",
      "brotlicffi                    1.0.9.2          py313h5da7b33_1\n",
      "bzip2                         1.0.8            h2bbff1b_6\n",
      "ca-certificates               2025.8.3         h4c7d964_0          conda-forge\n",
      "certifi                       2025.8.3         py313haa95532_0\n",
      "cffi                          1.17.1           py313h827c3e9_1\n",
      "charset-normalizer            3.3.2            pyhd3eb1b0_0\n",
      "colorama                      0.4.6            py313haa95532_0\n",
      "comm                          0.2.1            py313haa95532_0\n",
      "conda                         25.7.0           py313haa95532_0\n",
      "conda-anaconda-telemetry      0.2.0            py313haa95532_1\n",
      "conda-anaconda-tos            0.2.1            py313haa95532_0\n",
      "conda-content-trust           0.2.0            py313haa95532_1\n",
      "conda-libmamba-solver         25.4.0           pyhd3eb1b0_0\n",
      "conda-package-handling        2.4.0            py313haa95532_0\n",
      "conda-package-streaming       0.12.0           py313haa95532_0\n",
      "cpp-expected                  1.1.0            h214f63a_0\n",
      "cryptography                  45.0.3           py313h51e0144_0\n",
      "debugpy                       1.8.11           py313h5da7b33_0\n",
      "decorator                     5.1.1            pyhd3eb1b0_0\n",
      "defusedxml                    0.7.1            pyhd3eb1b0_0\n",
      "distro                        1.9.0            py313haa95532_0\n",
      "executing                     0.8.3            pyhd3eb1b0_0\n",
      "expat                         2.7.1            h8ddb27b_0\n",
      "fmt                           9.1.0            h6d14046_1\n",
      "frozendict                    2.4.2            py313haa95532_0\n",
      "h11                           0.16.0           py313haa95532_0\n",
      "httpcore                      1.0.9            py313haa95532_0\n",
      "httpx                         0.28.1           py313haa95532_0\n",
      "icu                           73.1             h6c2663c_0\n",
      "idna                          3.7              py313haa95532_0\n",
      "intel-openmp                  2023.1.0         h59b6b97_46320\n",
      "ipykernel                     6.30.1           pyh3521513_0        conda-forge\n",
      "ipython                       9.1.0            py313haa95532_0\n",
      "ipython_pygments_lexers       1.1.1            py313haa95532_0\n",
      "ipywidgets                    8.1.5            py313haa95532_0\n",
      "jedi                          0.19.2           py313haa95532_0\n",
      "jinja2                        3.1.6            py313haa95532_0\n",
      "jpeg                          9e               h827c3e9_3\n",
      "json5                         0.9.25           py313haa95532_0\n",
      "jsonpatch                     1.33             py313haa95532_1\n",
      "jsonpointer                   2.1              pyhd3eb1b0_0\n",
      "jsonschema                    4.25.0           py313haa95532_0\n",
      "jsonschema-specifications     2023.7.1         py313haa95532_0\n",
      "jupyter                       1.1.1            py313haa95532_0\n",
      "jupyter-lsp                   2.2.5            py313haa95532_0\n",
      "jupyter_client                8.6.3            py313haa95532_0\n",
      "jupyter_console               6.6.3            py313haa95532_1\n",
      "jupyter_core                  5.8.1            py313haa95532_0\n",
      "jupyter_events                0.12.0           py313haa95532_0\n",
      "jupyter_server                2.16.0           py313haa95532_0\n",
      "jupyter_server_terminals      0.5.3            py313haa95532_0\n",
      "jupyterlab                    4.4.4            py313haa95532_0\n",
      "jupyterlab_pygments           0.3.0            py313haa95532_0\n",
      "jupyterlab_server             2.27.3           py313haa95532_0\n",
      "jupyterlab_widgets            3.0.15           py313haa95532_0\n",
      "libarchive                    3.7.7            h9243413_0\n",
      "libcurl                       8.14.1           ha9f67de_0\n",
      "libffi                        3.4.4            hd77b12b_1\n",
      "libiconv                      1.16             h2bbff1b_3\n",
      "libkrb5                       1.21.3           hcb72d8e_3\n",
      "libmamba                      2.0.5            hcd6fe79_1\n",
      "libmambapy                    2.0.5            py313h214f63a_1\n",
      "libmpdec                      4.0.0            h827c3e9_0\n",
      "libpng                        1.6.39           h8cc25b3_0\n",
      "libpq                         17.4             h4a159e6_2\n",
      "libsodium                     1.0.18           h62dcd97_0\n",
      "libsolv                       0.7.30           hf2fb9eb_1\n",
      "libssh2                       1.11.1           h2addb87_0\n",
      "libxml2                       2.13.8           h866ff63_0\n",
      "lz4-c                         1.9.4            h2bbff1b_1\n",
      "markdown-it-py                2.2.0            py313haa95532_1\n",
      "markupsafe                    3.0.2            py313h827c3e9_0\n",
      "matplotlib-inline             0.1.6            py313haa95532_0\n",
      "mdurl                         0.1.0            py313haa95532_0\n",
      "menuinst                      2.3.0            py313h5da7b33_0\n",
      "mistune                       3.1.2            py313haa95532_0\n",
      "mkl                           2023.1.0         h6b88ed4_46358\n",
      "mkl-service                   2.4.0            py313h827c3e9_2\n",
      "mkl_fft                       1.3.11           py313h827c3e9_0\n",
      "mkl_random                    1.2.8            py313hce38976_0\n",
      "nbclient                      0.10.2           py313haa95532_0\n",
      "nbconvert                     7.16.6           py313haa95532_0\n",
      "nbconvert-core                7.16.6           py313haa95532_0\n",
      "nbconvert-pandoc              7.16.6           py313haa95532_0\n",
      "nbformat                      5.10.4           py313haa95532_0\n",
      "nest-asyncio                  1.6.0            py313haa95532_0\n",
      "nlohmann_json                 3.11.2           h6c2663c_0\n",
      "notebook                      7.4.4            py313haa95532_0\n",
      "notebook-shim                 0.2.4            py313haa95532_0\n",
      "numpy                         2.3.1            py313ha127e54_0\n",
      "numpy-base                    2.3.1            py313haaa8b43_0\n",
      "openssl                       3.5.2            h725018a_0          conda-forge\n",
      "overrides                     7.4.0            py313haa95532_0\n",
      "packaging                     24.2             py313haa95532_0\n",
      "pandoc                        2.12             haa95532_3\n",
      "pandocfilters                 1.5.0            pyhd3eb1b0_0\n",
      "parso                         0.8.4            py313haa95532_0\n",
      "pcre2                         10.42            h0ff8eda_1\n",
      "pip                           25.1             pyhc872135_2\n",
      "platformdirs                  4.3.7            py313haa95532_0\n",
      "pluggy                        1.5.0            py313haa95532_0\n",
      "prometheus_client             0.21.1           py313haa95532_0\n",
      "prompt-toolkit                3.0.43           py313haa95532_0\n",
      "prompt_toolkit                3.0.43           hd3eb1b0_0\n",
      "psutil                        5.9.0            py313h827c3e9_1\n",
      "pure_eval                     0.2.2            pyhd3eb1b0_0\n",
      "pybind11-abi                  5                hd3eb1b0_0\n",
      "pycosat                       0.6.6            py313h827c3e9_2\n",
      "pycparser                     2.21             pyhd3eb1b0_0\n",
      "pydantic                      2.11.7           py313haa95532_0\n",
      "pydantic-core                 2.33.2           py313h215eeae_0\n",
      "pygments                      2.19.1           py313haa95532_0\n",
      "pyqt                          6.7.1            py313h378bd72_2\n",
      "pyqt6-sip                     13.9.1           py313h02ab6af_2\n",
      "pysocks                       1.7.1            py313haa95532_0\n",
      "python                        3.13.5           h286a616_100_cp313\n",
      "python-dateutil               2.9.0post0       py313haa95532_2\n",
      "python-fastjsonschema         2.20.0           py313haa95532_0\n",
      "python-json-logger            3.2.1            py313haa95532_0\n",
      "python_abi                    3.13             0_cp313\n",
      "pywin32                       311              py313h885b0b7_0\n",
      "pywinpty                      2.0.15           py313h72d21ff_0\n",
      "pyyaml                        6.0.2            py313h827c3e9_0\n",
      "pyzmq                         26.2.0           py313h5da7b33_0\n",
      "qtbase                        6.7.3            hd088775_4\n",
      "qtconsole                     5.6.1            py313haa95532_1\n",
      "qtdeclarative                 6.7.3            h885b0b7_1\n",
      "qtpy                          2.4.1            py313haa95532_0\n",
      "qtsvg                         6.7.3            h9d4b640_1\n",
      "qttools                       6.7.3            hcb596f7_1\n",
      "qtwebchannel                  6.7.3            h885b0b7_1\n",
      "qtwebsockets                  6.7.3            h885b0b7_1\n",
      "referencing                   0.30.2           py313haa95532_0\n",
      "reproc                        14.2.4           hd77b12b_2\n",
      "reproc-cpp                    14.2.4           hd77b12b_2\n",
      "requests                      2.32.4           py313haa95532_0\n",
      "rfc3339-validator             0.1.4            py313haa95532_0\n",
      "rfc3986-validator             0.1.1            py313haa95532_0\n",
      "rich                          13.9.4           py313haa95532_0\n",
      "rpds-py                       0.22.3           py313h636fa0f_0\n",
      "ruamel.yaml                   0.18.10          py313h827c3e9_0\n",
      "ruamel.yaml.clib              0.2.12           py313h827c3e9_0\n",
      "send2trash                    1.8.2            py313haa95532_1\n",
      "setuptools                    72.1.0           py313haa95532_0\n",
      "simdjson                      3.10.1           h214f63a_0\n",
      "sip                           6.10.0           py313h5da7b33_0\n",
      "six                           1.17.0           py313haa95532_0\n",
      "sniffio                       1.3.0            py313haa95532_0\n",
      "soupsieve                     2.5              py313haa95532_0\n",
      "spdlog                        1.11.0           h59b6b97_0\n",
      "sqlite                        3.50.2           hda9a48d_1\n",
      "stack_data                    0.2.0            pyhd3eb1b0_0\n",
      "tbb                           2021.8.0         h59b6b97_0\n",
      "terminado                     0.17.1           py313haa95532_0\n",
      "tinycss2                      1.4.0            py313haa95532_0\n",
      "tk                            8.6.14           h5e9d12e_1\n",
      "tornado                       6.5.1            py313h827c3e9_0\n",
      "tqdm                          4.67.1           py313h4442805_0\n",
      "traitlets                     5.14.3           py313haa95532_0\n",
      "truststore                    0.10.0           py313haa95532_0\n",
      "typing-extensions             4.12.2           py313haa95532_0\n",
      "typing-inspection             0.4.0            py313haa95532_0\n",
      "typing_extensions             4.12.2           py313haa95532_0\n",
      "tzdata                        2025b            h04d1e81_0\n",
      "ucrt                          10.0.22621.0     haa95532_0\n",
      "urllib3                       2.5.0            py313haa95532_0\n",
      "vc                            14.3             h2df5915_10\n",
      "vc14_runtime                  14.44.35208      h4927774_10\n",
      "vs2015_runtime                14.44.35208      ha6b5a95_10\n",
      "wcwidth                       0.2.13           py313haa95532_0\n",
      "webencodings                  0.5.1            py313haa95532_2\n",
      "websocket-client              1.8.0            py313haa95532_0\n",
      "wheel                         0.45.1           py313haa95532_0\n",
      "widgetsnbextension            4.0.13           py313haa95532_0\n",
      "win_inet_pton                 1.1.0            py313haa95532_0\n",
      "winpty                        0.4.3            4\n",
      "xz                            5.6.4            h4754444_1\n",
      "yaml                          0.2.5            he774522_0\n",
      "yaml-cpp                      0.8.0            hd77b12b_1\n",
      "zeromq                        4.3.5            hd77b12b_0\n",
      "zlib                          1.2.13           h8cc25b3_1\n",
      "zstandard                     0.23.0           py313h4fc1ca9_1\n",
      "zstd                          1.5.6            h8880b57_0\n"
     ]
    }
   ],
   "source": [
    "!conda list"
   ]
  },
  {
   "attachments": {},
   "cell_type": "markdown",
   "id": "123456",
   "metadata": {},
   "source": [
    "# 2 Install Notebook 7"
   ]
  },
  {
   "attachments": {},
   "cell_type": "markdown",
   "id": "123456",
   "metadata": {},
   "source": [
    "# Jupyter Extensions"
   ]
  },
  {
   "attachments": {},
   "cell_type": "markdown",
   "id": "123456",
   "metadata": {},
   "source": [
    "## Installing the extensions"
   ]
  },
  {
   "attachments": {},
   "cell_type": "markdown",
   "id": "123456",
   "metadata": {},
   "source": [
    "## Enabling the extensions"
   ]
  },
  {
   "attachments": {},
   "cell_type": "markdown",
   "id": "123456",
   "metadata": {},
   "source": [
    "# 3 Shell Magic"
   ]
  },
  {
   "attachments": {},
   "cell_type": "markdown",
   "id": "123456",
   "metadata": {},
   "source": [
    "# 4 The Kernel"
   ]
  }
 ],
 "metadata": {
  "kernelspec": {
   "display_name": "base",
   "language": "python",
   "name": "python3"
  },
  "language_info": {
   "codemirror_mode": {
    "name": "ipython",
    "version": 3
   },
   "file_extension": ".py",
   "mimetype": "text/x-python",
   "name": "python",
   "nbconvert_exporter": "python",
   "pygments_lexer": "ipython3",
   "version": "3.13.5"
  },
  "toc": {
   "base_numbering": 1,
   "nav_menu": {},
   "number_sections": true,
   "sideBar": true,
   "skip_h1_title": false,
   "title_cell": "Table of Contents",
   "title_sidebar": "Contents",
   "toc_cell": false,
   "toc_position": {},
   "toc_section_display": true,
   "toc_window_display": false
  }
 },
 "nbformat": 4,
 "nbformat_minor": 5
}
