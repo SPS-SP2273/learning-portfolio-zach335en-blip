{
 "cells": [
  {
   "attachments": {},
   "cell_type": "markdown",
   "id": "123456",
   "metadata": {},
   "source": [
    "<div style=\"text-align:left;font-size:2em\"><span style=\"font-weight:bolder;font-size:1.25em\">SP2273 | Learning Portfolio</span><br><br><span style=\"font-weight:bold;color:darkred\">Loops (Need) Exercises</span></div>"
   ]
  },
  {
   "cell_type": "code",
   "execution_count": 1,
   "id": "05aecba4",
   "metadata": {},
   "outputs": [],
   "source": [
    "import numpy as np"
   ]
  },
  {
   "cell_type": "markdown",
   "id": "d35513f0",
   "metadata": {},
   "source": [
    "# Exercise 1 (Celsius to Fahrenheit)"
   ]
  },
  {
   "cell_type": "code",
   "execution_count": 42,
   "id": "0eac0d76",
   "metadata": {},
   "outputs": [
    {
     "name": "stdout",
     "output_type": "stream",
     "text": [
      "0, 32.0\n",
      "1, 41.0\n",
      "2, 50.0\n",
      "3, 59.0\n",
      "4, 68.0\n",
      "5, 77.0\n",
      "6, 86.0\n",
      "7, 95.0\n",
      "8, 104.0\n",
      "9, 113.0\n",
      "10, 122.0\n"
     ]
    }
   ],
   "source": [
    "temperatures_celsius = [\n",
    "    0, 5, 10, 15, 20, 25,\n",
    "    30, 35, 40, 45, 50\n",
    "]\n",
    "temperature_celsius = np.array(temperatures_celsius)\n",
    "temperature_fahrenheit = temperature_celsius * 1.8 + 32\n",
    "for celsius, fahrenheit in enumerate(temperature_fahrenheit):\n",
    "    print(f'{celsius}, {fahrenheit}')"
   ]
  },
  {
   "cell_type": "markdown",
   "id": "6bfe6cb3",
   "metadata": {},
   "source": [
    "# Exercise 2 (Multiplication table)"
   ]
  },
  {
   "cell_type": "code",
   "execution_count": 43,
   "id": "d155f97d",
   "metadata": {},
   "outputs": [
    {
     "name": "stdout",
     "output_type": "stream",
     "text": [
      "A1\tA2\tA3\t\n",
      "\n",
      "B1\tB2\tB3\t\n",
      "\n",
      "C1\tC2\tC3\t\n",
      "\n"
     ]
    }
   ],
   "source": [
    "for letter in ['A', 'B', 'C']:\n",
    "    for number in [1, 2, 3]:\n",
    "        print(f'{letter}{number}', end='\\t')\n",
    "    print('\\n')"
   ]
  },
  {
   "cell_type": "code",
   "execution_count": 77,
   "id": "df7f82a0",
   "metadata": {},
   "outputs": [
    {
     "name": "stdout",
     "output_type": "stream",
     "text": [
      "1 :\t1\t2\t3\t4\t5\t\n",
      "\n",
      "2 :\t2\t4\t6\t8\t10\t\n",
      "\n",
      "3 :\t3\t6\t9\t12\t15\t\n",
      "\n",
      "4 :\t4\t8\t12\t16\t20\t\n",
      "\n",
      "5 :\t5\t10\t15\t20\t25\t\n",
      "\n"
     ]
    }
   ],
   "source": [
    "for number in [1,2,3,4,5]:\n",
    "    print(f'{number} ', end= ':\\t')\n",
    "    for number2 in [1,2,3,4,5]:\n",
    "        print(number * number2, end= '\\t')\n",
    "    print('\\n')"
   ]
  },
  {
   "cell_type": "markdown",
   "id": "3af65707",
   "metadata": {},
   "source": [
    "# Exercise 3 (Simulating a Coin Flip Experiment)"
   ]
  },
  {
   "cell_type": "code",
   "execution_count": 88,
   "id": "e21fd438",
   "metadata": {},
   "outputs": [
    {
     "data": {
      "text/plain": [
       "array([0.41030639, 0.86488485, 0.87412505, 0.61054884, 0.47275006,\n",
       "       0.01547419, 0.27972273, 0.3889608 , 0.81477933, 0.4626964 ])"
      ]
     },
     "execution_count": 88,
     "metadata": {},
     "output_type": "execute_result"
    }
   ],
   "source": [
    "np.random.rand(10)"
   ]
  },
  {
   "cell_type": "code",
   "execution_count": 275,
   "id": "77f3786e",
   "metadata": {},
   "outputs": [
    {
     "name": "stdout",
     "output_type": "stream",
     "text": [
      "Experiment 1: No. of Heads = 4\n",
      "Experiment 2: No. of Heads = 4\n",
      "Experiment 3: No. of Heads = 6\n",
      "Experiment 4: No. of Heads = 5\n",
      "Experiment 5: No. of Heads = 8\n",
      "Experiment 6: No. of Heads = 7\n",
      "Experiment 7: No. of Heads = 3\n",
      "Experiment 8: No. of Heads = 4\n",
      "Experiment 9: No. of Heads = 3\n",
      "Experiment 10: No. of Heads = 1\n"
     ]
    }
   ],
   "source": [
    "for i in range (1,11):\n",
    "    my_mask = np.random.rand(10) > 0.5\n",
    "    print(f'Experiment {i}: No. of Heads = {my_mask.sum()}')"
   ]
  }
 ],
 "metadata": {
  "kernelspec": {
   "display_name": "base",
   "language": "python",
   "name": "python3"
  },
  "language_info": {
   "codemirror_mode": {
    "name": "ipython",
    "version": 3
   },
   "file_extension": ".py",
   "mimetype": "text/x-python",
   "name": "python",
   "nbconvert_exporter": "python",
   "pygments_lexer": "ipython3",
   "version": "3.13.5"
  },
  "toc": {
   "base_numbering": 1,
   "nav_menu": {},
   "number_sections": true,
   "sideBar": true,
   "skip_h1_title": false,
   "title_cell": "Table of Contents",
   "title_sidebar": "Contents",
   "toc_cell": false,
   "toc_position": {},
   "toc_section_display": true,
   "toc_window_display": false
  }
 },
 "nbformat": 4,
 "nbformat_minor": 5
}
