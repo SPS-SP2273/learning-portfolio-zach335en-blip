{
 "cells": [
  {
   "attachments": {},
   "cell_type": "markdown",
   "id": "123456",
   "metadata": {},
   "source": [
    "<div style=\"text-align:left;font-size:2em\"><span style=\"font-weight:bolder;font-size:1.25em\">SP2273 | Learning Portfolio</span><br><br><span style=\"font-weight:bold;color:darkred\">Fundamentals (Need) Exercises</span></div>"
   ]
  },
  {
   "cell_type": "markdown",
   "id": "4a13b69e",
   "metadata": {},
   "source": [
    "# Exercise 1 (Total recall?)"
   ]
  },
  {
   "cell_type": "markdown",
   "id": "5af3bbb6",
   "metadata": {},
   "source": [
    "1. Markdown cell features\n",
    "    1. Creating links\n",
    "    1. Inserting images\n",
    "    1. Formatting and tables\n",
    "    1. Displaying code\n",
    "    1. Writing equations\n",
    "    1. Creating lists\n",
    "1. Code features\n",
    "    1. Time it\n",
    "    1. Solve equations\n",
    "    1. Strings\n",
    "    1. Functions (e.g. ``` print() ```)\n",
    "    1. Python is interpreted from right to left\n"
   ]
  },
  {
   "cell_type": "markdown",
   "id": "12eb4c83",
   "metadata": {},
   "source": [
    "\n",
    "1. _Python is sensitive_\n",
    "1. _Writing comments_\n",
    "1. _= vs ==_\n",
    "1. _Decision making (based on data)_\n",
    "1. _Indentations_\n",
    "1. _Packages and dots_"
   ]
  },
  {
   "cell_type": "markdown",
   "id": "88469d62",
   "metadata": {},
   "source": [
    "# Exercise 2 (Debug me)"
   ]
  },
  {
   "cell_type": "code",
   "execution_count": 2,
   "id": "96ac925d",
   "metadata": {},
   "outputs": [
    {
     "ename": "IndentationError",
     "evalue": "unindent does not match any outer indentation level (<string>, line 3)",
     "output_type": "error",
     "traceback": [
      "  \u001b[36mFile \u001b[39m\u001b[32m<string>:3\u001b[39m\n\u001b[31m    \u001b[39m\u001b[31mPrint(x, y, z)\u001b[39m\n                  ^\n\u001b[31mIndentationError\u001b[39m\u001b[31m:\u001b[39m unindent does not match any outer indentation level\n"
     ]
    }
   ],
   "source": [
    "x, y = 3, 4\n",
    "        z = sqrt(x*2 + y**2)\n",
    "    Print(x, y, z)"
   ]
  },
  {
   "cell_type": "code",
   "execution_count": 29,
   "id": "02d5e444",
   "metadata": {},
   "outputs": [
    {
     "name": "stdout",
     "output_type": "stream",
     "text": [
      "3 4 5\n"
     ]
    }
   ],
   "source": [
    "import numpy as np\n",
    "x, y = 3, 4\n",
    "z = np.sqrt(x**2 + y**2)\n",
    "print(x, y, int(z))"
   ]
  },
  {
   "cell_type": "markdown",
   "id": "1a195644",
   "metadata": {},
   "source": [
    "# Exercise 3 (In your own words)"
   ]
  },
  {
   "cell_type": "markdown",
   "id": "ed8bdf80",
   "metadata": {},
   "source": [
    "| **#** | **Term** | **Description** |\n",
    "| :--: | :--- | :--: |\n",
    "| 1 | Function | A specific code to perform a specific task e.g. 'print()' |\n",
    "| 2 | Arguments | A piece of data that is used in processing the function |\n",
    "| 3 | Comments | Strings that are not involved in coding by Python but are useful to give comments on the purpose of the code for the viewer |\n",
    "| 4 | Indentations | Spaces before a function that designate different blocks of code |\n",
    "| 5 | Packages | Additions to Python that allow it to perform more functions |\n",
    "| 6 | . | Denotes the function 'belonging' to the another string |\n",
    "| 7 | : | Defines code blocks |\n",
    "| 8 | [] | Brackets that define lists of data |\n",
    "| 9 | [[],[]] | A list of two empty lists of data |\n",
    "| 10 | {} | Brackets that define a set of data |"
   ]
  },
  {
   "cell_type": "markdown",
   "id": "87828e43",
   "metadata": {},
   "source": [
    "# Exercise 4 (More than one way to divide)"
   ]
  },
  {
   "cell_type": "code",
   "execution_count": null,
   "id": "f4f70cca",
   "metadata": {},
   "outputs": [
    {
     "data": {
      "text/plain": [
       "2.5"
      ]
     },
     "execution_count": 19,
     "metadata": {},
     "output_type": "execute_result"
    }
   ],
   "source": [
    "5/2           # Divides a by b completely"
   ]
  },
  {
   "cell_type": "code",
   "execution_count": 23,
   "id": "29d6e43a",
   "metadata": {},
   "outputs": [
    {
     "data": {
      "text/plain": [
       "2"
      ]
     },
     "execution_count": 23,
     "metadata": {},
     "output_type": "execute_result"
    }
   ],
   "source": [
    "5//2          # Divides a by b, rounds down the result"
   ]
  },
  {
   "cell_type": "code",
   "execution_count": 28,
   "id": "ef041bb4",
   "metadata": {},
   "outputs": [
    {
     "data": {
      "text/plain": [
       "1"
      ]
     },
     "execution_count": 28,
     "metadata": {},
     "output_type": "execute_result"
    }
   ],
   "source": [
    "5%2           # Divides a by b, gives the remainder"
   ]
  }
 ],
 "metadata": {
  "kernelspec": {
   "display_name": "base",
   "language": "python",
   "name": "python3"
  },
  "language_info": {
   "codemirror_mode": {
    "name": "ipython",
    "version": 3
   },
   "file_extension": ".py",
   "mimetype": "text/x-python",
   "name": "python",
   "nbconvert_exporter": "python",
   "pygments_lexer": "ipython3",
   "version": "3.13.5"
  },
  "toc": {
   "base_numbering": 1,
   "nav_menu": {},
   "number_sections": true,
   "sideBar": true,
   "skip_h1_title": false,
   "title_cell": "Table of Contents",
   "title_sidebar": "Contents",
   "toc_cell": false,
   "toc_position": {},
   "toc_section_display": true,
   "toc_window_display": false
  }
 },
 "nbformat": 4,
 "nbformat_minor": 5
}
