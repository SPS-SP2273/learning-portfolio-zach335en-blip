{
 "cells": [
  {
   "attachments": {},
   "cell_type": "markdown",
   "id": "123456",
   "metadata": {},
   "source": [
    "<div style=\"text-align:left;font-size:2em\"><span style=\"font-weight:bolder;font-size:1.25em\">SP2273 | Learning Portfolio</span><br><br><span style=\"font-weight:bold;color:darkred\">Fundamentals (Good) Exercises</span></div>"
   ]
  },
  {
   "cell_type": "markdown",
   "id": "59000978",
   "metadata": {},
   "source": [
    "# Exercise 1 (f-strings to the rescue)  "
   ]
  },
  {
   "cell_type": "markdown",
   "id": "92621b6b",
   "metadata": {},
   "source": [
    "## Task 1"
   ]
  },
  {
   "cell_type": "code",
   "execution_count": 1,
   "id": "46064a03",
   "metadata": {},
   "outputs": [
    {
     "name": "stdout",
     "output_type": "stream",
     "text": [
      "You entered Meow\n"
     ]
    }
   ],
   "source": [
    "user_input = input('Please provide me with a number?')\n",
    "print('You entered', user_input)"
   ]
  },
  {
   "cell_type": "code",
   "execution_count": 34,
   "id": "772ebc3a",
   "metadata": {},
   "outputs": [
    {
     "name": "stdout",
     "output_type": "stream",
     "text": [
      "\"How you doin Meow!\"\n"
     ]
    }
   ],
   "source": [
    "user_input = input('What is your name?')\n",
    "print(f'\"How you doin {user_input}!\"')"
   ]
  },
  {
   "cell_type": "markdown",
   "id": "fd759f01",
   "metadata": {},
   "source": [
    "## Task 2"
   ]
  },
  {
   "cell_type": "code",
   "execution_count": 35,
   "id": "88711443",
   "metadata": {},
   "outputs": [
    {
     "name": "stdout",
     "output_type": "stream",
     "text": [
      "\"My name is Meow, and I am Meow years old\"\n"
     ]
    }
   ],
   "source": [
    "user_input = input('What is your name?')\n",
    "user_input2 = input('How old are you?')\n",
    "print(f'\"My name is {user_input}, and I am {user_input2} years old\"')"
   ]
  },
  {
   "cell_type": "markdown",
   "id": "53cb9a7e",
   "metadata": {},
   "source": [
    "## Task 3"
   ]
  },
  {
   "cell_type": "code",
   "execution_count": 19,
   "id": "706a0464",
   "metadata": {},
   "outputs": [
    {
     "name": "stdout",
     "output_type": "stream",
     "text": [
      "The value of pi to 2 decimal places is: 3.14\n",
      "The value of pi to 3 decimal places is: 3.142\n",
      "The value of pi to 4 decimal places is: 3.1416\n"
     ]
    }
   ],
   "source": [
    "pi = (3.141592653589793)\n",
    "print(f'The value of pi to 2 decimal places is: {pi:.2f}')\n",
    "print(f'The value of pi to 3 decimal places is: {pi:.3f}')\n",
    "print(f'The value of pi to 4 decimal places is: {pi:.4f}')"
   ]
  },
  {
   "cell_type": "markdown",
   "id": "d57791bb",
   "metadata": {},
   "source": [
    "## Task 4"
   ]
  },
  {
   "cell_type": "code",
   "execution_count": 56,
   "id": "baa13b3c",
   "metadata": {},
   "outputs": [
    {
     "name": "stdout",
     "output_type": "stream",
     "text": [
      "Apple     $ 0.99\n",
      "Banana    $ 0.59\n",
      "Orange    $ 1.29\n"
     ]
    }
   ],
   "source": [
    "a='Apple'\n",
    "b='Banana'\n",
    "c='Orange'\n",
    "print(f'{a:<10}{'$':<2}{0.99:<2}')\n",
    "print(f'{b:<10}{'$':<2}{0.59:<2}')\n",
    "print(f'{c:<10}{'$':<2}{1.29:<2}')"
   ]
  },
  {
   "cell_type": "markdown",
   "id": "10854e29",
   "metadata": {},
   "source": [
    "# Exercise 2 (What is your grade?)"
   ]
  },
  {
   "cell_type": "code",
   "execution_count": 1,
   "id": "b5d87b66",
   "metadata": {},
   "outputs": [
    {
     "name": "stdout",
     "output_type": "stream",
     "text": [
      "Score undefined!\n"
     ]
    }
   ],
   "source": [
    "user_input = float(input('What is your score?'))\n",
    "if(user_input < 0):\n",
    "    print('Score undefined!')\n",
    "elif(0 < user_input < 35):\n",
    "    print('Fail')\n",
    "elif(34 < user_input < 50):\n",
    "    print('C')\n",
    "elif(49 < user_input < 70):\n",
    "    print('B')\n",
    "else:\n",
    "    print('A')\n"
   ]
  },
  {
   "cell_type": "markdown",
   "id": "f2a15c7e",
   "metadata": {},
   "source": [
    "# Exercise 3 (Debugging Code)"
   ]
  },
  {
   "cell_type": "code",
   "execution_count": 69,
   "id": "c4a76892",
   "metadata": {},
   "outputs": [
    {
     "name": "stdout",
     "output_type": "stream",
     "text": [
      "120\n",
      "Invalid input\n"
     ]
    }
   ],
   "source": [
    "def factorial(n):\n",
    "    if n < 0:\n",
    "        return \"Invalid input\"\n",
    "    elif n == 0:\n",
    "        return 1\n",
    "    else:\n",
    "        result = 1\n",
    "        for number in range(1, n+1):\n",
    "            result *= number\n",
    "        return result\n",
    "\n",
    "\n",
    "print(factorial(5))   # Testing, expected output: 120\n",
    "print(factorial(-1))  # Testing, expected output: Invalid input"
   ]
  }
 ],
 "metadata": {
  "kernelspec": {
   "display_name": "base",
   "language": "python",
   "name": "python3"
  },
  "language_info": {
   "codemirror_mode": {
    "name": "ipython",
    "version": 3
   },
   "file_extension": ".py",
   "mimetype": "text/x-python",
   "name": "python",
   "nbconvert_exporter": "python",
   "pygments_lexer": "ipython3",
   "version": "3.13.5"
  },
  "toc": {
   "base_numbering": 1,
   "nav_menu": {},
   "number_sections": true,
   "sideBar": true,
   "skip_h1_title": false,
   "title_cell": "Table of Contents",
   "title_sidebar": "Contents",
   "toc_cell": false,
   "toc_position": {},
   "toc_section_display": true,
   "toc_window_display": false
  }
 },
 "nbformat": 4,
 "nbformat_minor": 5
}
