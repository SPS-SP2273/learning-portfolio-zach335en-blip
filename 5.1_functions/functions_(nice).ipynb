{
 "cells": [
  {
   "attachments": {},
   "cell_type": "markdown",
   "id": "123456",
   "metadata": {},
   "source": [
    "<div style=\"text-align:left;font-size:2em\"><span style=\"font-weight:bolder;font-size:1.25em\">SP2273 | Learning Portfolio</span><br><br><span style=\"font-weight:bold;color:darkred\">Functions (Nice)</span></div>"
   ]
  },
  {
   "cell_type": "code",
   "execution_count": 1,
   "id": "98833428",
   "metadata": {},
   "outputs": [],
   "source": [
    "import numpy as np"
   ]
  },
  {
   "attachments": {},
   "cell_type": "markdown",
   "id": "123456",
   "metadata": {},
   "source": [
    "# 1 Modularise and reuse"
   ]
  },
  {
   "attachments": {},
   "cell_type": "markdown",
   "id": "123456",
   "metadata": {},
   "source": [
    "# 2 The many ways to pass arguments"
   ]
  },
  {
   "attachments": {},
   "cell_type": "markdown",
   "id": "123456",
   "metadata": {},
   "source": [
    "## 2.1 *args & **kwarg"
   ]
  },
  {
   "attachments": {},
   "cell_type": "markdown",
   "id": "123456",
   "metadata": {},
   "source": [
    "### *args"
   ]
  },
  {
   "cell_type": "code",
   "execution_count": 3,
   "id": "123456",
   "metadata": {},
   "outputs": [
    {
     "data": {
      "text/plain": [
       "8"
      ]
     },
     "execution_count": 3,
     "metadata": {},
     "output_type": "execute_result"
    }
   ],
   "source": [
    "def multiply(x, y):\n",
    "    return x * y\n",
    "\n",
    "numbers = [4, 2]\n",
    "multiply(*numbers)\n",
    "# Your code here\n"
   ]
  },
  {
   "cell_type": "code",
   "execution_count": 6,
   "id": "49f9d699",
   "metadata": {},
   "outputs": [
    {
     "data": {
      "text/plain": [
       "6"
      ]
     },
     "execution_count": 6,
     "metadata": {},
     "output_type": "execute_result"
    }
   ],
   "source": [
    "def multiply(*args):\n",
    "    result = 1\n",
    "    for number in args:\n",
    "        result *= number\n",
    "\n",
    "    return result\n",
    "\n",
    "numbers = [1, 2, 3]\n",
    "multiply(*numbers)"
   ]
  },
  {
   "cell_type": "code",
   "execution_count": 8,
   "id": "441c0fb0",
   "metadata": {},
   "outputs": [
    {
     "data": {
      "text/plain": [
       "120"
      ]
     },
     "execution_count": 8,
     "metadata": {},
     "output_type": "execute_result"
    }
   ],
   "source": [
    "multiply(1, 2, 3, 4, 5)"
   ]
  },
  {
   "attachments": {},
   "cell_type": "markdown",
   "id": "123456",
   "metadata": {},
   "source": [
    "### **kwargs"
   ]
  },
  {
   "cell_type": "code",
   "execution_count": 9,
   "id": "123456",
   "metadata": {},
   "outputs": [
    {
     "data": {
      "text/plain": [
       "6"
      ]
     },
     "execution_count": 9,
     "metadata": {},
     "output_type": "execute_result"
    }
   ],
   "source": [
    "def multiply(x, y, z):\n",
    "    return x * y * z\n",
    "\n",
    "# Let's use the function\n",
    "numbers = {'x': 1, 'y': 2, 'z': 3}\n",
    "multiply(**numbers)\n",
    "# Your code here\n"
   ]
  },
  {
   "cell_type": "code",
   "execution_count": 11,
   "id": "32f8d29e",
   "metadata": {},
   "outputs": [
    {
     "data": {
      "text/plain": [
       "12"
      ]
     },
     "execution_count": 11,
     "metadata": {},
     "output_type": "execute_result"
    }
   ],
   "source": [
    "def multiply(x, y, z):\n",
    "    return x * y * z\n",
    "\n",
    "# Let's use the function\n",
    "numbers = {'y': 2, 'z': 3}\n",
    "multiply(2, **numbers)"
   ]
  },
  {
   "cell_type": "code",
   "execution_count": 12,
   "id": "8e4743ea",
   "metadata": {},
   "outputs": [
    {
     "data": {
      "text/plain": [
       "14"
      ]
     },
     "execution_count": 12,
     "metadata": {},
     "output_type": "execute_result"
    }
   ],
   "source": [
    "def add_powers(numbers, power):\n",
    "    result = 0\n",
    "    for number in numbers:\n",
    "        result += number**power\n",
    "\n",
    "    return result\n",
    "\n",
    "# Let's use the function\n",
    "kwargs = {'numbers': [1, 2, 3], 'power': 2}\n",
    "add_powers(**kwargs)"
   ]
  },
  {
   "cell_type": "code",
   "execution_count": 21,
   "id": "bf3f3de3",
   "metadata": {},
   "outputs": [
    {
     "data": {
      "text/plain": [
       "14"
      ]
     },
     "execution_count": 21,
     "metadata": {},
     "output_type": "execute_result"
    }
   ],
   "source": [
    "def add_powers(**kwargs):\n",
    "    numbers = kwargs['numbers']\n",
    "    power = kwargs['power']\n",
    "\n",
    "    result = 0\n",
    "    for number in numbers:\n",
    "        result += number**power\n",
    "\n",
    "    return result\n",
    "\n",
    "\n",
    "# Let's use the function\n",
    "add_powers(numbers=[1, 2, 3], power=2)"
   ]
  },
  {
   "cell_type": "code",
   "execution_count": 22,
   "id": "0e2b4140",
   "metadata": {},
   "outputs": [
    {
     "data": {
      "text/plain": [
       "14"
      ]
     },
     "execution_count": 22,
     "metadata": {},
     "output_type": "execute_result"
    }
   ],
   "source": [
    "kwargs = {'numbers': [1, 2, 3], 'power': 2}\n",
    "add_powers(**kwargs)"
   ]
  },
  {
   "attachments": {},
   "cell_type": "markdown",
   "id": "123456",
   "metadata": {},
   "source": [
    "# 3 Gotchas with passing variables to functions"
   ]
  },
  {
   "attachments": {},
   "cell_type": "markdown",
   "id": "123456",
   "metadata": {},
   "source": [
    "## 3.1 The Problem"
   ]
  },
  {
   "cell_type": "code",
   "execution_count": 23,
   "id": "71d71f15",
   "metadata": {},
   "outputs": [
    {
     "name": "stdout",
     "output_type": "stream",
     "text": [
      "BEFORE|\tNumber: 10(id: 140712796665032), Array: [10](id: 2746855003344), List: [10](id: 2746856654784)\n",
      "Doing something!\n",
      "INSIDE|\tNumber: 20(id: 140712796665352), Array: [20](id: 2746855003344), List: [10, 10](id: 2746856654784)\n",
      "AFTER|\tNumber: 10(id: 140712796665032), Array: [20](id: 2746855003344), List: [10, 10](id: 2746856654784)\n"
     ]
    }
   ],
   "source": [
    "def do_something(inside_number, inside_array, inside_list):\n",
    "    print('Doing something!')\n",
    "    inside_number *= 2\n",
    "    inside_array *= 2\n",
    "    inside_list *= 2\n",
    "\n",
    "    print(f\"INSIDE|\\tNumber: {inside_number}(id: {id(inside_number)}), Array: {inside_array}(id: {id(inside_array)}), List: {inside_list}(id: {id(inside_list)})\")\n",
    "\n",
    "outside_number = 10\n",
    "outside_array = np.array([10])\n",
    "outside_list = [10]\n",
    "\n",
    "print(f\"BEFORE|\\tNumber: {outside_number}(id: {id(outside_number)}), Array: {outside_array}(id: {id(outside_array)}), List: {outside_list}(id: {id(outside_list)})\")\n",
    "do_something(outside_number, outside_array, outside_list)\n",
    "print(f\"AFTER|\\tNumber: {outside_number}(id: {id(outside_number)}), Array: {outside_array}(id: {id(outside_array)}), List: {outside_list}(id: {id(outside_list)})\")"
   ]
  },
  {
   "attachments": {},
   "cell_type": "markdown",
   "id": "123456",
   "metadata": {},
   "source": [
    "## 3.2 An Explanation"
   ]
  },
  {
   "attachments": {},
   "cell_type": "markdown",
   "id": "123456",
   "metadata": {},
   "source": [
    "# 4 There is more to exceptions"
   ]
  },
  {
   "attachments": {},
   "cell_type": "markdown",
   "id": "123456",
   "metadata": {},
   "source": [
    "## 4.1 A list of exceptions"
   ]
  },
  {
   "attachments": {},
   "cell_type": "markdown",
   "id": "123456",
   "metadata": {},
   "source": [
    "## 4.2 Handling specific exceptions"
   ]
  },
  {
   "cell_type": "code",
   "execution_count": 25,
   "id": "054e870f",
   "metadata": {},
   "outputs": [
    {
     "name": "stdout",
     "output_type": "stream",
     "text": [
      "Oh oh! I cannot square we!\n"
     ]
    }
   ],
   "source": [
    "try:\n",
    "    number=input(\"Give me a number and I will calculate its square.\")\n",
    "    square=int(number)**2\n",
    "    print(f'The square of {number} is {square}!')\n",
    "except ValueError:\n",
    "    print(f\"Oh oh! I cannot square {number}!\")"
   ]
  },
  {
   "attachments": {},
   "cell_type": "markdown",
   "id": "123456",
   "metadata": {},
   "source": [
    "## 4.3 try also has an else and finally"
   ]
  },
  {
   "cell_type": "code",
   "execution_count": 27,
   "id": "be143e9d",
   "metadata": {},
   "outputs": [
    {
     "name": "stdout",
     "output_type": "stream",
     "text": [
      "Oh oh! I cannot square hi!\n",
      "Okay, looks like everything is done!\n"
     ]
    }
   ],
   "source": [
    "try:\n",
    "    number=input(\"Give me a number and I will calculate its square.\")\n",
    "    square=int(number)**2\n",
    "    print(f'The square of {number} is {square}!')\n",
    "except ValueError:\n",
    "    print(f\"Oh oh! I cannot square {number}!\")\n",
    "else:\n",
    "    print('Yeah! Things ran without a problem!')\n",
    "finally:\n",
    "    print('Okay, looks like everything is done!')"
   ]
  },
  {
   "attachments": {},
   "cell_type": "markdown",
   "id": "123456",
   "metadata": {},
   "source": [
    "## Footnotes"
   ]
  }
 ],
 "metadata": {
  "kernelspec": {
   "display_name": "base",
   "language": "python",
   "name": "python3"
  },
  "language_info": {
   "codemirror_mode": {
    "name": "ipython",
    "version": 3
   },
   "file_extension": ".py",
   "mimetype": "text/x-python",
   "name": "python",
   "nbconvert_exporter": "python",
   "pygments_lexer": "ipython3",
   "version": "3.13.5"
  },
  "toc": {
   "base_numbering": 1,
   "nav_menu": {},
   "number_sections": true,
   "sideBar": true,
   "skip_h1_title": false,
   "title_cell": "Table of Contents",
   "title_sidebar": "Contents",
   "toc_cell": false,
   "toc_position": {},
   "toc_section_display": true,
   "toc_window_display": false
  }
 },
 "nbformat": 4,
 "nbformat_minor": 5
}
